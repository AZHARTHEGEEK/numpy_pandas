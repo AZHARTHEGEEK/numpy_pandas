{
 "cells": [
  {
   "cell_type": "markdown",
   "metadata": {},
   "source": [
    "# PYTHON ASSIGNMENT 4"
   ]
  },
  {
   "cell_type": "markdown",
   "metadata": {},
   "source": [
    "QUESTION1:\n",
    "\n",
    "Use a dictionary to store information about a person you know. Store their first name, last name, age,and the city in which they live. You should have keys such as first_name, last_name, age, and city. Print each piece of information stored in your dictionary. Add a new key value pair about qualification then update the qualification value to high academic level then delete it."
   ]
  },
  {
   "cell_type": "code",
   "execution_count": 28,
   "metadata": {},
   "outputs": [
    {
     "name": "stdout",
     "output_type": "stream",
     "text": [
      "First Name : MUHAMMAD\n",
      "Last Name : AZHAR\n",
      "Age : 18\n",
      "City : Karachi\n",
      "\n",
      "\n",
      "\n",
      "First Name : MUHAMMAD\n",
      "Last Name : AZHAR\n",
      "Age : 18\n",
      "City : Karachi\n",
      "qualification : intermediate\n",
      "\n",
      "\n",
      "\n",
      "First Name : MUHAMMAD\n",
      "Last Name : AZHAR\n",
      "Age : 18\n",
      "City : Karachi\n",
      "qualification : high academic\n",
      "\n",
      "\n",
      "\n",
      "First Name : MUHAMMAD\n",
      "Last Name : AZHAR\n",
      "Age : 18\n",
      "City : Karachi\n"
     ]
    }
   ],
   "source": [
    "dictionary={\"First Name\":\"MUHAMMAD\",\"Last Name\":\"AZHAR\",\"Age\":\"18\",\"City\":\"Karachi\"}\n",
    "for key, value in dictionary.items():#########EACH PIECE OF INFORMATION STORED IN DICTIONARY\n",
    "    print(key+\" : \"+value)\n",
    "    \n",
    "print(\"\\n\\n\")#############################UPDATED TO QUALIFICATION\n",
    "dictionary[\"qualification\"]=\"Intermediate\"\n",
    "for key, value in dictionary.items():\n",
    "    print(key+\" : \"+value)\n",
    "    \n",
    "print(\"\\n\\n\")#############################UPDATED TO HIGH ACADEMIC\n",
    "dictionary[\"qualification\"]=\"High academic\"\n",
    "for key, value in dictionary.items():\n",
    "    print(key+\" : \"+value)\n",
    "    \n",
    "    \n",
    "del dictionary[\"qualification\"]  #####DELETING\n",
    "    \n",
    "print(\"\\n\\n\")\n",
    "\n",
    "for key, value in dictionary.items():\n",
    "    print(key+\" : \"+value)"
   ]
  },
  {
   "cell_type": "markdown",
   "metadata": {},
   "source": [
    "QUESTION 2:\n",
    "\n",
    "Make a dictionary called cities. Use the names of three cities as keys in your dictionary. Create a dictionary of information about each city and include the country that the city is in, its approximate population, and one fact about that city. The keys for each city’s dictionary should be something like country, population, and fact. Print the name of each city and all of the information you have stored about it."
   ]
  },
  {
   "cell_type": "code",
   "execution_count": 45,
   "metadata": {},
   "outputs": [
    {
     "name": "stdout",
     "output_type": "stream",
     "text": [
      "\n",
      "KARACHI\n",
      "\n",
      "Country : PAKISTAN\n",
      "Population : 18891076\n",
      "Fact : Karachi is the largest and most populous metropolitan city in Pakistan and the capital of Sindh province. Located on the Arabian Sea, Karachi is also known as the City of Lights and The Bride of the Cities\n",
      "\n",
      "LAHORE\n",
      "\n",
      "Country : PAKISTAN\n",
      "Population : 11126285\n",
      "Fact : Lahore is the capital city of the Pakistani province of Punjab. It is the second largest and most populous city in Pakistan\n",
      "\n",
      "Islamabad\n",
      "\n",
      "Country : PAKISTAN\n",
      "Population : 1009832\n",
      "Fact : The city's master-plan, designed by Greek architect Constantinos Apostolou Doxiadis, divides the city into eight zones, including administrative, diplomatic enclave, residential areas, educational sectors, industrial sectors, commercial areas, and rural and green areas.\n"
     ]
    }
   ],
   "source": [
    "cities={\n",
    "    \"KARACHI\":{\n",
    "        \"Country\":\"PAKISTAN\",\n",
    "        \"Population\":18891076,\n",
    "        \"Fact\":\"Karachi is the largest and most populous metropolitan city in Pakistan and the capital of Sindh province. Located on the Arabian Sea, Karachi is also known as the City of Lights and The Bride of the Cities\"    },\n",
    "    \"LAHORE\":{\n",
    "        \"Country\":\"PAKISTAN\",\n",
    "        \"Population\":11126285,\n",
    "        \"Fact\":\"Lahore is the capital city of the Pakistani province of Punjab. It is the second largest and most populous city in Pakistan\"\n",
    "    },\n",
    "    \"Islamabad\":{\n",
    "        \"Country\":\"PAKISTAN\",\n",
    "        \"Population\":1009832,\n",
    "        \"Fact\":\"The city's master-plan, designed by Greek architect Constantinos Apostolou Doxiadis, divides the city into eight zones, including administrative, diplomatic enclave, residential areas, educational sectors, industrial sectors, commercial areas, and rural and green areas.\"\n",
    "    }\n",
    "}\n",
    "for key,value in cities.items():\n",
    "    print(\"\\n\"+key+\"\\n\")\n",
    "    for city in value:\n",
    "        print(city+\" : \"+str(value[city]))"
   ]
  },
  {
   "cell_type": "markdown",
   "metadata": {},
   "source": [
    "QUESTION 3:\n",
    "\n",
    "A movie theater charges different ticket prices depending on a person’s age. If a person is under the age of 3, the ticket is free; if they are between 3 and 12, the ticket is $ 10 ; and  if they are over  age 12 , the ticket is $ 15. Write a loop in which you ask users their age, and then tell them the cost of their movie ticket."
   ]
  },
  {
   "cell_type": "code",
   "execution_count": 51,
   "metadata": {},
   "outputs": [
    {
     "name": "stdout",
     "output_type": "stream",
     "text": [
      "Enter Age : 15\n",
      "Ticket is 15$\n",
      "\n",
      "\n",
      "Are you want to take ticket yes/no: yes\n",
      "Enter Age : 11\n",
      "Ticket is 10$\n",
      "\n",
      "\n",
      "Are you want to take ticket yes/no: yes\n",
      "Enter Age : 2\n",
      "Ticket is free\n",
      "\n",
      "\n",
      "Are you want to take ticket yes/no: no\n"
     ]
    }
   ],
   "source": [
    "flag='yes'\n",
    "while flag!='no':\n",
    "    age=int(input(\"Enter Age : \"))\n",
    "    \n",
    "    if age>=12:\n",
    "        print(\"Ticket is 15$\")\n",
    "    elif age>=3:\n",
    "        print(\"Ticket is 10$\")\n",
    "    else:\n",
    "        print(\"Ticket is free\")\n",
    "    print(\"\\n\")\n",
    "    flag=input(\"Are you want to take ticket yes/no: \")"
   ]
  },
  {
   "cell_type": "markdown",
   "metadata": {},
   "source": [
    "QUESTION4:\n",
    "\n",
    "Write a function called favorite_book() that accepts one parameter, title. The function should print a message, such as One of my favorite books is Alice in Wonderland. Call the function, making sure to include a book title as an argument in the function call."
   ]
  },
  {
   "cell_type": "code",
   "execution_count": 53,
   "metadata": {},
   "outputs": [
    {
     "name": "stdout",
     "output_type": "stream",
     "text": [
      "ONE OF MY FAVORITE BOOKS IS ALICE IN WONDERLAND.\n"
     ]
    }
   ],
   "source": [
    "def favorite_book(title):\n",
    "    print(title)\n",
    "book_title=\"ONE OF MY FAVORITE BOOKS IS ALICE IN WONDERLAND.\"\n",
    "if(len(book_title)!=0):\n",
    "    favorite_book(book_title)\n",
    "else:\n",
    "    print(\"Please populate the book title\")"
   ]
  },
  {
   "cell_type": "markdown",
   "metadata": {},
   "source": [
    "QUESTION 5:\n",
    "\n",
    "Guess the number game\n",
    "\n",
    "Write a program which randomly generate a number between 1 to 30 and ask the user in input field to guess the correct number. Give three chances to user guess the number and also give hint to user if hidden number is greater or smaller than the number he given to input field."
   ]
  },
  {
   "cell_type": "code",
   "execution_count": 60,
   "metadata": {},
   "outputs": [
    {
     "name": "stdout",
     "output_type": "stream",
     "text": [
      "Please enter your guess: 56\n",
      "\n",
      "Your guess is too low\n",
      "200\n"
     ]
    }
   ],
   "source": [
    "import random\n",
    " \n",
    "hidden = random.randrange(1, 201)\n",
    " \n",
    "guess = int(input(\"Please enter your guess: \"))\n",
    " \n",
    "if guess == hidden:\n",
    "    print(\"\\nHit!\")\n",
    "elif guess < hidden:\n",
    "    print(\"\\nYour guess is too low\")\n",
    "else:\n",
    "    print(\"\\nYour guess is too high\")\n",
    "    \n",
    "print(hidden)"
   ]
  },
  {
   "cell_type": "code",
   "execution_count": 62,
   "metadata": {},
   "outputs": [],
   "source": [
    "#DONE"
   ]
  }
 ],
 "metadata": {
  "kernelspec": {
   "display_name": "Python 3",
   "language": "python",
   "name": "python3"
  },
  "language_info": {
   "codemirror_mode": {
    "name": "ipython",
    "version": 3
   },
   "file_extension": ".py",
   "mimetype": "text/x-python",
   "name": "python",
   "nbconvert_exporter": "python",
   "pygments_lexer": "ipython3",
   "version": "3.7.3"
  }
 },
 "nbformat": 4,
 "nbformat_minor": 2
}
